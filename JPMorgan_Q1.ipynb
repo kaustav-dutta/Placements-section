{
 "cells": [
  {
   "cell_type": "markdown",
   "metadata": {},
   "source": [
    "# JP Morgan interview question #1"
   ]
  },
  {
   "cell_type": "markdown",
   "metadata": {},
   "source": [
    "Given a (N*N) array which may contain positive and negative values. We need to print the submatrix of the greatest size whose sum of elements is the maximum."
   ]
  },
  {
   "cell_type": "code",
   "execution_count": 28,
   "metadata": {},
   "outputs": [],
   "source": [
    "import numpy as np"
   ]
  },
  {
   "cell_type": "code",
   "execution_count": 29,
   "metadata": {},
   "outputs": [],
   "source": [
    "N=5"
   ]
  },
  {
   "cell_type": "code",
   "execution_count": 30,
   "metadata": {},
   "outputs": [],
   "source": [
    "matrix=np.zeros(shape=(N,N))"
   ]
  },
  {
   "cell_type": "code",
   "execution_count": 31,
   "metadata": {},
   "outputs": [
    {
     "name": "stdout",
     "output_type": "stream",
     "text": [
      "Enter value:1\n",
      "Enter value:2\n",
      "Enter value:3\n",
      "Enter value:4\n",
      "Enter value:5\n",
      "Enter value:6\n",
      "Enter value:7\n",
      "Enter value:8\n",
      "Enter value:9\n",
      "Enter value:10\n",
      "Enter value:11\n",
      "Enter value:12\n",
      "Enter value:13\n",
      "Enter value:14\n",
      "Enter value:15\n",
      "Enter value:16\n",
      "Enter value:17\n",
      "Enter value:18\n",
      "Enter value:19\n",
      "Enter value:20\n",
      "Enter value:21\n",
      "Enter value:22\n",
      "Enter value:23\n",
      "Enter value:24\n",
      "Enter value:25\n"
     ]
    }
   ],
   "source": [
    "for i in range(N):\n",
    "    for j in range(N):\n",
    "        matrix[i,j]=input(\"Enter value:\")"
   ]
  },
  {
   "cell_type": "code",
   "execution_count": 40,
   "metadata": {},
   "outputs": [],
   "source": [
    "max_sum=-100\n",
    "row_max=0\n",
    "col_max=0\n",
    "size_max=0\n",
    "size=1\n",
    "while(size<=N):\n",
    "    for i in range(0,N-size):\n",
    "        for j in range(0,N-size):\n",
    "            sub=matrix[i:i+size,j:j+size]\n",
    "            sum=np.sum(sub)\n",
    "            if(sum>max_sum):\n",
    "                max_sum=sum\n",
    "                row_max=i\n",
    "                col_max=j\n",
    "                size_max=size\n",
    "    size=size+1"
   ]
  },
  {
   "cell_type": "code",
   "execution_count": 39,
   "metadata": {},
   "outputs": [
    {
     "name": "stdout",
     "output_type": "stream",
     "text": [
      "1.0      2.0      3.0      4.0      \n",
      "6.0      7.0      8.0      9.0      \n",
      "11.0      12.0      13.0      14.0      \n",
      "16.0      17.0      18.0      19.0      \n"
     ]
    }
   ],
   "source": [
    "for i in range(row_max,row_max+size_max):\n",
    "    for j in range(col_max,col_max+size_max):\n",
    "        print(matrix[i,j],end='      ')\n",
    "    print()"
   ]
  }
 ],
 "metadata": {
  "kernelspec": {
   "display_name": "Python 3",
   "language": "python",
   "name": "python3"
  },
  "language_info": {
   "codemirror_mode": {
    "name": "ipython",
    "version": 3
   },
   "file_extension": ".py",
   "mimetype": "text/x-python",
   "name": "python",
   "nbconvert_exporter": "python",
   "pygments_lexer": "ipython3",
   "version": "3.7.4"
  }
 },
 "nbformat": 4,
 "nbformat_minor": 2
}
