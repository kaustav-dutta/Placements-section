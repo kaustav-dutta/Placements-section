{
 "cells": [
  {
   "cell_type": "markdown",
   "metadata": {},
   "source": [
    "# JP Morgan interview question #3"
   ]
  },
  {
   "cell_type": "markdown",
   "metadata": {},
   "source": [
    "### Trapping rainwater problem"
   ]
  },
  {
   "cell_type": "markdown",
   "metadata": {},
   "source": [
    "Given n non-negative integers representing an elevation map where the width of each bar is 1, compute how much water it is able to trap after raining."
   ]
  },
  {
   "cell_type": "code",
   "execution_count": 111,
   "metadata": {},
   "outputs": [],
   "source": [
    "import numpy as np"
   ]
  },
  {
   "cell_type": "code",
   "execution_count": 185,
   "metadata": {},
   "outputs": [
    {
     "name": "stdout",
     "output_type": "stream",
     "text": [
      "Enter the value of n:4\n"
     ]
    }
   ],
   "source": [
    "n=input(\"Enter the value of n:\")\n",
    "n=int(n)"
   ]
  },
  {
   "cell_type": "code",
   "execution_count": 186,
   "metadata": {},
   "outputs": [
    {
     "name": "stdout",
     "output_type": "stream",
     "text": [
      "Enter a number:4\n",
      "Enter a number:0\n",
      "Enter a number:0\n",
      "Enter a number:4\n"
     ]
    }
   ],
   "source": [
    "arr=np.zeros(shape=n)\n",
    "for i in range(n):\n",
    "    arr[i]=input(\"Enter a number:\")\n",
    "    arr[i]=int(arr[i])"
   ]
  },
  {
   "cell_type": "code",
   "execution_count": 187,
   "metadata": {},
   "outputs": [],
   "source": [
    "pos=0\n",
    "vol=0\n",
    "for i in range(n):\n",
    "    pos=i\n",
    "    for j in range(i+1,n):\n",
    "        if(arr[j]>=arr[i]):\n",
    "            pos=j\n",
    "            break\n",
    "    \n",
    "    \n",
    "    if(pos!=i):\n",
    "        for k in range(i+1,pos):\n",
    "            vol=vol+arr[i]-arr[k]\n",
    "    if(pos==n-1):\n",
    "        break"
   ]
  },
  {
   "cell_type": "code",
   "execution_count": 188,
   "metadata": {},
   "outputs": [
    {
     "name": "stdout",
     "output_type": "stream",
     "text": [
      "Volume contained: 8.0\n"
     ]
    }
   ],
   "source": [
    "print(\"Volume contained:\",vol)"
   ]
  }
 ],
 "metadata": {
  "kernelspec": {
   "display_name": "Python 3",
   "language": "python",
   "name": "python3"
  },
  "language_info": {
   "codemirror_mode": {
    "name": "ipython",
    "version": 3
   },
   "file_extension": ".py",
   "mimetype": "text/x-python",
   "name": "python",
   "nbconvert_exporter": "python",
   "pygments_lexer": "ipython3",
   "version": "3.7.4"
  }
 },
 "nbformat": 4,
 "nbformat_minor": 2
}
